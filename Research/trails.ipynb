{
 "cells": [
  {
   "cell_type": "code",
   "execution_count": 1,
   "metadata": {},
   "outputs": [],
   "source": [
    "import os"
   ]
  },
  {
   "cell_type": "code",
   "execution_count": null,
   "metadata": {},
   "outputs": [],
   "source": [
    "from langchain import PromptTemplate,HuggingFaceHub,LLMChain\n",
    "from langchain_community.llms import HuggingFaceEndpoint\n",
    "from dotenv import load_dotenv\n",
    "import streamlit as st"
   ]
  },
  {
   "cell_type": "code",
   "execution_count": 4,
   "metadata": {},
   "outputs": [
    {
     "data": {
      "text/plain": [
       "True"
      ]
     },
     "execution_count": 4,
     "metadata": {},
     "output_type": "execute_result"
    }
   ],
   "source": [
    "load_dotenv()"
   ]
  },
  {
   "cell_type": "code",
   "execution_count": 5,
   "metadata": {},
   "outputs": [],
   "source": [
    "api_key = os.getenv(\"HuggingFaceHub_API_TOKEN\")\n",
    "if not api_key:\n",
    "    raise ValueError(\"API key not found in environment variables.\")"
   ]
  },
  {
   "cell_type": "code",
   "execution_count": 6,
   "metadata": {},
   "outputs": [],
   "source": [
    "os.environ[\"HuggingFaceHub_API_TOKEN\"]=api_key"
   ]
  },
  {
   "cell_type": "code",
   "execution_count": 7,
   "metadata": {},
   "outputs": [],
   "source": [
    "prompt = PromptTemplate(\n",
    "    input_variables=[\"source\", \"destination\", \"num_days\"],\n",
    "    template=(\n",
    "        \"Generate a {num_days}-day travel itinerary for a trip from {source} to {destination}.\"\n",
    "        \" Provide a detailed plan for each day, including:\"\n",
    "        \"\\n- Morning activities\"\n",
    "        \"\\n- Afternoon activities\"\n",
    "        \"\\n- Evening activities\"\n",
    "        \"\\n- Recommendations for restaurants and cafes\"\n",
    "        \"\\n- Any travel tips for the day.\\n\\n\"\n",
    "        \"Please follow this format:\\n\\n\"\n",
    "        \"Day 1:\\n- Morning: [Description]\\n- Afternoon: [Description]\\n- Evening: [Description]\\n\"\n",
    "        \"Recommended Restaurants: [List]\\nTravel Tips: [Tip]\\n\\n\"\n",
    "        \"Continue this format for all days until Day {num_days}.\"\n",
    "    )\n",
    ")\n"
   ]
  },
  {
   "cell_type": "code",
   "execution_count": 16,
   "metadata": {},
   "outputs": [
    {
     "name": "stderr",
     "output_type": "stream",
     "text": [
      "WARNING! max_length is not default parameter.\n",
      "                    max_length was transferred to model_kwargs.\n",
      "                    Please make sure that max_length is what you intended.\n"
     ]
    }
   ],
   "source": [
    "model_id = \"mistralai/Mixtral-8x7B-Instruct-v0.1\"\n",
    "llm = HuggingFaceEndpoint(\n",
    "        repo_id=model_id, max_length=10000, temperature=0.5\n",
    "    )\n",
    "chain = LLMChain(llm=llm, prompt=prompt, verbose=True)"
   ]
  },
  {
   "cell_type": "code",
   "execution_count": 21,
   "metadata": {},
   "outputs": [
    {
     "name": "stderr",
     "output_type": "stream",
     "text": [
      "Error in StdOutCallbackHandler.on_chain_start callback: AttributeError(\"'NoneType' object has no attribute 'get'\")\n"
     ]
    },
    {
     "name": "stdout",
     "output_type": "stream",
     "text": [
      "Prompt after formatting:\n",
      "\u001b[32;1m\u001b[1;3mGenerate a 3-day travel itinerary for a trip from Tirupathi to Vijayawada. Provide a detailed plan for each day, including:\n",
      "- Morning activities\n",
      "- Afternoon activities\n",
      "- Evening activities\n",
      "- Recommendations for restaurants and cafes\n",
      "- Any travel tips for the day.\n",
      "\n",
      "Please follow this format:\n",
      "\n",
      "Day 1:\n",
      "- Morning: [Description]\n",
      "- Afternoon: [Description]\n",
      "- Evening: [Description]\n",
      "Recommended Restaurants: [List]\n",
      "Travel Tips: [Tip]\n",
      "\n",
      "Continue this format for all days until Day 3.\u001b[0m\n",
      "\n",
      "\u001b[1m> Finished chain.\u001b[0m\n"
     ]
    }
   ],
   "source": [
    "result=chain.run({\"source\":\"Tirupathi\",\"destination\":\"Vijayawada\",\"num_days\":\"3\"})"
   ]
  },
  {
   "cell_type": "code",
   "execution_count": 22,
   "metadata": {},
   "outputs": [
    {
     "name": "stdout",
     "output_type": "stream",
     "text": [
      "\n",
      "\n",
      "Day 1:\n",
      "- Morning: Start your journey early in the morning from Tirupathi to Vijayawada by road. The distance is approximately 270 km and it takes around 5-6 hours to reach Vijayawada. You can either hire a cab or take a bus.\n",
      "- Afternoon: Once you reach Vijayawada, have lunch at any local restaurant. After lunch, visit the Prakasam Barrage, a beautiful bridge built across the Krishna River.\n",
      "- Evening: Spend your evening at the Bhavani Island, a serene picnic spot located in the middle of the Krishna River. You can enjoy various water sports activities here.\n",
      "Recommended Restaurants: Annapurna, Arya Bhavan, and Andhra Spice\n",
      "Travel Tips: Carry enough water and snacks for the road journey.\n",
      "\n",
      "Day 2:\n",
      "- Morning: Start your day with a visit to the Undavalli Caves, a set of rock-cut caves dating back to the 4th century. The caves are located around 8 km from Vijayawada.\n",
      "- Afternoon: After exploring the caves, head to the Kanaka Durga Temple, a famous Hindu temple dedicated to Goddess Durga. The temple is located on the Indrakeeladri Hill and offers a beautiful view of the city.\n",
      "- Evening: Visit the Rajiv Gandhi Park, a well-maintained park with a variety of flora and fauna. You can also enjoy a boat ride in the park.\n",
      "Recommended Restaurants: Gokul Chat, Swagath Restaurant, and Chutneys\n",
      "Travel Tips: Dress appropriately while visiting temples.\n",
      "\n",
      "Day 3:\n",
      "- Morning: Start your day with a visit to the Kondapalli Fort, a historic fort located around 16 km from Vijayawada. The fort offers a panoramic view of the city.\n",
      "- Afternoon: After exploring the fort, head to the Victoria Museum, a museum showcasing the history and culture of Andhra Pradesh.\n",
      "- Evening: End your trip with a visit to the Gandhi Hill, a hill dedicated to Mahatma Gandhi. The hill has a memorial park and a light and sound show in the evening.\n"
     ]
    }
   ],
   "source": [
    "print(result)"
   ]
  }
 ],
 "metadata": {
  "kernelspec": {
   "display_name": "travel-chatbot",
   "language": "python",
   "name": "python3"
  },
  "language_info": {
   "codemirror_mode": {
    "name": "ipython",
    "version": 3
   },
   "file_extension": ".py",
   "mimetype": "text/x-python",
   "name": "python",
   "nbconvert_exporter": "python",
   "pygments_lexer": "ipython3",
   "version": "3.8.20"
  }
 },
 "nbformat": 4,
 "nbformat_minor": 2
}
